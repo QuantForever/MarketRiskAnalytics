{
 "cells": [
  {
   "attachments": {},
   "cell_type": "markdown",
   "metadata": {},
   "source": [
    "## Importance Sampling - application to pricing of deep OTM options\n",
    "\n",
    "@Author: Srijoy,\n",
    "Copyright (C) [2019-21] by [Mr. Srijoy Das]\n",
    "\n",
    "Permission is hereby granted, free of charge, to any person obtaining \n",
    "a copy of this software and associated documentation files (the \"Software\"), \n",
    "to deal in the Software without restriction, including without limitation\n",
    "the rights to use, copy, modify, merge, publish, distribute, \n",
    "but not sell copies of the Software unless otherwise for training purposes only.\n",
    "\n",
    "This implementation demonstrates the use of importance sampling as variance reduction technique in pricing of derivatives.\n",
    "\n",
    "> **Problem: Suppose we wish to estimate the value of a call option using Monte Carlo methods which is well “out of the money”,  one with a strike price K far above the current price of the stock S0.**\n",
    "\n",
    ">    - So that if we were to attempt to evaluate this option using crude Monte Carlo, the majority of the terminal stock price values randomly generated would fall below the strike (K) and contribute zero to the option price.\n",
    "    - So the probability that S(T) > K can be very low, maybe less than 1%. This will contribute to higher standard error The estimator will only converge for large sample paths (M value) that is inefficient.\n",
    "    - Solution: One possible remedy is to use importance sampling by adjusting the mean: mu = log(K/So), as demonstrated below.\n",
    "\n",
    "**You will learn:**\n",
    "\n",
    "- Implementation of Black-scholes option pricing model using simulation approach (using Monte Carlo) \n",
    "- Use of variance reduction technique such as Importance sampling in solving pricing issues related to deep OTM options\n",
    "- Implementation of the importance sampling technique using scipy packages"
   ]
  },
  {
   "cell_type": "markdown",
   "metadata": {},
   "source": [
    "## Packages ##\n",
    "\n",
    "First, let's run the cell below to import all the packages that you will need during this assignment. \n",
    "- [numpy](www.numpy.org) is the fundamental package for scientific computing with Python.\n",
    "- [matplotlib](http://matplotlib.org) is a famous library to plot graphs in Python.\n",
    "- Pandas is used to handle data manipulation in python.\n",
    "- Scikit-learn is a free software machine learning library for the Python programming language. It features various classification, regression and clustering algorithms including support vector machines.\n",
    "- SciPy contains modules for optimization, linear algebra, integration, interpolation."
   ]
  },
  {
   "cell_type": "code",
   "execution_count": 29,
   "metadata": {},
   "outputs": [],
   "source": [
    "import numpy as np\n",
    "import matplotlib.pyplot as plt\n",
    "import math\n",
    "import pandas as pd\n",
    "from scipy.stats import norm \n",
    "from scipy.optimize import minimize\n",
    "import seaborn as sb\n",
    "\n",
    "np.random.seed(1)"
   ]
  },
  {
   "cell_type": "markdown",
   "metadata": {},
   "source": [
    "## 1 - Implementing the GBM model for pricing options using Monte Carlo## \n",
    "\n",
    "A stochastic process S is said to follow a GBM if it satisfies the following [[stochastic differential equation]] (SDE):\n",
    "\n",
    "$ dS_t = \\mu S_t\\,dt + \\sigma S_t\\,dW_t $\n",
    "\n",
    "where $ W_t $ is a [[Wiener process or Brownian motion]], and $ \\mu $ ('the percentage drift') and $ \\sigma $ ('the percentage volatility') are constants.\n",
    "\n",
    "Consider the stochastic differential equation (Generalized form)\n",
    "\n",
    "$\\mathrm{d} X_t = a(X_t) \\, \\mathrm{d} t + b(X_t) \\, \\mathrm{d} W_t,$\n",
    "\n",
    "with [[initial condition]] ''X''<sub>0</sub>&nbsp;=&nbsp;''x''<sub>0</sub>, where ''W''<sub>''t''</sub> stands for the [[Wiener process]], and suppose that we wish to solve this SDE on some interval of time [0,&nbsp;''T'']. Then the '''Euler–Maruyama approximation''' to the true solution ''X'' is defined as follows:\n",
    "\n",
    "* partition the interval [0,&nbsp;''T''] into ''N'' equal subintervals of width $\\Delta t>0$:\n",
    " $0 = \\tau_{0} < \\tau_{1} < \\cdots < \\tau_{N} = T \\text{ and } \\Delta t = T/N;$\n",
    "\n",
    "* set Y<sub>0</sub>&nbsp;=&nbsp;X<sub>0</sub>;\n",
    "* recursively define ''Y''<sub>''n''</sub> for 1&nbsp;≤&nbsp;''n''&nbsp;≤&nbsp;''N'' by\n",
    "\n",
    "$\\, Y_{n + 1} = Y_n + a(Y_n) \\, \\Delta t + b(Y_n) \\, \\Delta W_n,$\n",
    "\n",
    "where W is the weiner process:\n",
    "\n",
    "$\\Delta W_n = W_{\\tau_{n + 1}} - W_{\\tau_n} = ~N(0,\\Delta t)$, \n",
    "where N is Gaussian random variable.\n",
    "\n",
    "The main steps of implementation are:\n",
    "1. Define the functions (inputs, output/return values) \n",
    "2. Implement the euler discretisation algorithm for GBM model\n",
    "3. Extracting stock prices data using pandas and calculating the mean and variance of the returns\n",
    "4. Pricing the call option (under BS assumptions)"
   ]
  },
  {
   "cell_type": "code",
   "execution_count": 30,
   "metadata": {},
   "outputs": [],
   "source": [
    "# MC simulation of GBM using Euler discretisation.\n",
    "def GBM(So, mu, sigma, T, N, normal, num_sim):    \n",
    "    \n",
    "    dt = float(T/N)\n",
    "    paths = np.zeros((num_sim, N+1))\n",
    "    paths [:,0] = So\n",
    "    for i in np.arange(1, int(N+1)):\n",
    "        drift = (mu-0.5*sigma**2)*dt\n",
    "        diffusion = sigma * np.sqrt(dt)\n",
    "        paths[:,i] = paths[:,i-1] * np.exp(drift + diffusion*normal[:,i-1])\n",
    "\n",
    "    return paths\n",
    "\n",
    "\n",
    "def payoff(S_T, Strike, rate, Mat=1.0):\n",
    "    payoff = np.exp(-rate*Mat) * max(S_T - Strike, 0)\n",
    "    return payoff\n",
    "\n",
    "def BSClosedForm(S0, K, r, T, sigma, is_call):\n",
    "    # call or put\n",
    "    d1 = ((r + 0.5 * sigma**2) * T + np.log(S0 /K )) / (sigma * np.sqrt(T))\n",
    "    d2 = d1 - sigma * np.sqrt(T)\n",
    "    \n",
    "    p = 0.0\n",
    "    \n",
    "    if  is_call:\n",
    "        p =  S0 * norm.cdf(d1) - np.exp(- r * T) *  K * norm.cdf(d2) \n",
    "    else:               \n",
    "        p = np.exp(- r * T) *  K * norm.cdf(-d2) -  S0 * norm.cdf(-d1)\n",
    "        \n",
    "    return p\n",
    "\n",
    "def daily_return(adj_close):\n",
    "    returns = []\n",
    "    for i in range(0, len(adj_close)-1):\n",
    "        today = adj_close[i+1]\n",
    "        yesterday = adj_close[i]\n",
    "        daily_return = (today - yesterday)/yesterday\n",
    "        returns.append(daily_return)\n",
    "    return returns"
   ]
  },
  {
   "cell_type": "code",
   "execution_count": 31,
   "metadata": {},
   "outputs": [
    {
     "name": "stdout",
     "output_type": "stream",
     "text": [
      "\n",
      "Spot price: 1035.61 and Strike: 1553.41\n",
      "\n",
      "Analytical price of OTM option is 7.00\n"
     ]
    }
   ],
   "source": [
    "panel_data = pd.read_csv('GOOG.csv', header=0, index_col=0)\n",
    "\n",
    "adj_close = panel_data['Close']\n",
    "\n",
    "returns = daily_return(adj_close)\n",
    "\n",
    "#mu = np.mean(returns)*252.0          # drift coefficient\n",
    "sig = np.std(returns)*np.sqrt(252.0)  # diffusion coefficient\n",
    "#print (mu, sig)\n",
    "\n",
    "So = adj_close[0]; \n",
    "Strike = 1.5*So # Moneyness\n",
    "rate = 0.02\n",
    "T = 1.0\n",
    "\n",
    "print ('\\nSpot price: %.2f and Strike: %0.2f' % (So, Strike))\n",
    "price = BSClosedForm(So, Strike, rate, T, sig, True)\n",
    "print('\\nAnalytical price of OTM option is %.2f' %(price))"
   ]
  },
  {
   "cell_type": "code",
   "execution_count": 32,
   "metadata": {},
   "outputs": [
    {
     "name": "stdout",
     "output_type": "stream",
     "text": [
      "\n",
      "MC price is: 12.51 \n",
      "\n",
      "[Sampling err is: 5.5669 [N = 100]] \n",
      "\n"
     ]
    }
   ],
   "source": [
    "v1 = [];     \n",
    "steps = 250; num_sim = 100;\n",
    "normals = np.random.normal(0, 1, (num_sim, steps))\n",
    "paths = GBM(So, rate, sig, T, steps, normals, num_sim)\n",
    "\n",
    "for i in np.arange(num_sim):\n",
    "    v1.append(payoff(paths[i,-1], Strike, rate, T))\n",
    "\n",
    "price = np.mean(v1)\n",
    "print ('\\nMC price is: %.2f \\n' % price)\n",
    "mc_err = np.std(v1)/np.sqrt(num_sim)\n",
    "print ('[Sampling err is: %.4f [N = %d]] \\n' %(mc_err, num_sim))"
   ]
  },
  {
   "attachments": {},
   "cell_type": "markdown",
   "metadata": {},
   "source": [
    "## 2. Applying Importance sampling to the pricing ##\n",
    "\n",
    "In Monte Carlo, much of the complexity in practice comes from trying to reduce the variance, to reduce the number of samples that have to be simulated to achieve a given accuracy. There are  various techniques used in practice to reduce variance such as: Antithetic variables, Control variates, <b>Importance sampling</b>, Low discrepancy sequences.\n",
    "\n",
    ">- <b> Importance sampling </b> involves a change of probability measure that implies sampling from a different distribution than the distribution of interest to sample values that have more impact (“are important”) on the parameter being estimated.\n",
    "    - In our example of deep OTM options, we therefore try to choose only important paths, that is, paths where the stock price is above K  at maturity.\n",
    "    - Suppose p1(S) is the unconditional probability distribution function(pdf) for the stock price at maturity, then we have to choose a function p2(S) that allows us to sample more non-zero values."
   ]
  },
  {
   "cell_type": "code",
   "execution_count": 33,
   "metadata": {},
   "outputs": [
    {
     "name": "stdout",
     "output_type": "stream",
     "text": [
      "\n",
      "MC price using Importance Sampling: 7.54 \n",
      "\n",
      "[Sampling err is: 0.8616 [N = 100]] \n",
      "\n"
     ]
    },
    {
     "data": {
      "image/png": "[encoded data removed]",
      "text/plain": [
       "<Figure size 360x360 with 1 Axes>"
      ]
     },
     "metadata": {
      "needs_background": "light"
     },
     "output_type": "display_data"
    }
   ],
   "source": [
    "v1 = []\n",
    "mu = np.log(Strike/So)\n",
    "paths2 = GBM(So, mu, sig, T, steps, normals, num_sim)\n",
    "\n",
    "for i in np.arange(num_sim):\n",
    "    v1.append(payoff(paths2[i,-1], Strike, rate, T))\n",
    "\n",
    "z = np.log(paths2[:,-1]/So)\n",
    "\n",
    "#Lambd is the radon-nikodyn derivative\n",
    "lambd = np.divide(norm.pdf(z, (rate - 0.5*(sig*sig))*T, sig*(T**0.5) ), \\\n",
    "            norm.pdf(z, (np.log(Strike/So) - 0.5*(sig*sig))*T, sig*(T**0.5) ))\n",
    "\n",
    "v2 = np.multiply(v1, lambd)\n",
    "\n",
    "price = np.mean(v2)\n",
    "print ('\\nMC price using Importance Sampling: %.2f \\n' % price) \n",
    "mc_err = np.std(v2)/np.sqrt(num_sim)\n",
    "print ('[Sampling err is: %.4f [N = %d]] \\n' %(mc_err, num_sim))\n",
    "\n",
    "fig, ax = plt.subplots(nrows=1, ncols=1, figsize=(5,5))\n",
    "sb.distplot(paths[:,-1], label='p1(x): mu=log(F)', color='blue', ax=ax)\n",
    "sb.distplot(paths2[:, -1], label='p2(x): mu=log(K/So)', color='red', ax=ax)\n",
    "plt.legend()\n",
    "plt.tight_layout()\n",
    "plt.show()"
   ]
  },
  {
   "cell_type": "code",
   "execution_count": null,
   "metadata": {},
   "outputs": [],
   "source": []
  }
 ],
 "metadata": {
  "kernelspec": {
   "display_name": "Python 3",
   "language": "python",
   "name": "python3"
  },
  "language_info": {
   "codemirror_mode": {
    "name": "ipython",
    "version": 3
   },
   "file_extension": ".py",
   "mimetype": "text/x-python",
   "name": "python",
   "nbconvert_exporter": "python",
   "pygments_lexer": "ipython3",
   "version": "3.7.3"
  }
 },
 "nbformat": 4,
 "nbformat_minor": 2
}
